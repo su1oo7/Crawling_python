{
 "cells": [
  {
   "cell_type": "markdown",
   "metadata": {
    "colab_type": "text",
    "id": "9vz6anQ6-lKb"
   },
   "source": [
    "사전훈련된 네트워크에 의해 학습된 특성의 계층구조 >> 유연한 재사용으로 효율성 극대화\n",
    "\n",
    "재사용 method\n",
    "1. 특성 추출\n",
    "2. 미세조정\n",
    "\n",
    "Input -Convolutional base(Conv layers)-Classifier(Dense layers)-Output\n",
    "\n",
    "일반적으로 Conv 층이 일반적인 표현을 학습하기 때문에 재사용에 용이\n",
    "재사용 여부는 conv 층의 깊이가 주요 요인\n",
    "\n",
    "keras 모듈에 포함된 모듈 종류\n",
    "\n",
    "VGG16\n",
    "\n",
    "Xception\n",
    "\n",
    "Inception V3\n",
    "\n",
    "ResNet50"
   ]
  },
  {
   "cell_type": "code",
   "execution_count": 2,
   "metadata": {
    "colab": {
     "base_uri": "https://localhost:8080/",
     "height": 53
    },
    "colab_type": "code",
    "id": "0JnnSzeWD0H_",
    "outputId": "65016f20-b2c5-4ebc-bf50-a0007ae09f4b"
   },
   "outputs": [],
   "source": [
    "from keras.applications import VGG16\n",
    "\n",
    "conv_base =VGG16(weights ='imagenet',\n",
    "                 include_top=False,\n",
    "                 input_shape=(150,150,3))"
   ]
  },
  {
   "cell_type": "code",
   "execution_count": 9,
   "metadata": {
    "colab": {},
    "colab_type": "code",
    "id": "p6ed4w_XS_9S"
   },
   "outputs": [],
   "source": [
    "import os,shutil\n",
    "\n",
    "#original_dataset_dir='/content/train'\n",
    "\n",
    "base_dir='cats_and_dogs_small'\n",
    "# if os.path.exists(base_dir):\n",
    "#   shutil.rmtree(base_dir)\n",
    "# os.mkdir(base_dir)\n",
    "\n",
    "train_dir= os.path.join(base_dir, 'train')\n",
    "#os.mkdir(train_dir)\n",
    "validation_dir=os.path.join(base_dir,'validation')\n",
    "#os.mkdir(validation_dir)\n",
    "test_dir=os.path.join(base_dir,'test')\n",
    "#os.mkdir(test_dir)\n",
    "\n",
    "train_cats_dir=os.path.join(train_dir, 'cats')\n",
    "#os.mkdir(train_cats_dir)\n",
    "train_dogs_dir=os.path.join(train_dir,'dogs')\n",
    "#os.mkdir(train_dogs_dir)\n",
    "\n",
    "validation_cats_dir=os.path.join(validation_dir,'cats')\n",
    "#os.mkdir(validation_cats_dir)\n",
    "validation_dogs_dir=os.path.join(validation_dir,'dogs')\n",
    "#os.mkdir(validation_dogs_dir)\n",
    "\n",
    "test_cats_dir=os.path.join(test_dir,'cats')\n",
    "#os.mkdir(test_cats_dir)\n",
    "test_dogs_dir=os.path.join(test_dir,'dogs')\n",
    "#os.mkdir(test_dogs_dir)\n",
    "\n",
    "# fnames=['cat.{}.jpg'.format(i) for i in range(1000)]\n",
    "# for fname in fnames:\n",
    "#   src=os.path.join(original_dataset_dir, fname)\n",
    "#   dst=os.path.join(train_cats_dir, fname)\n",
    "#   shutil.copyfile(src,dst)\n",
    "\n",
    "\n",
    "# fnames=['cat.{}.jpg'.format(i) for i in range(1000,1500)]\n",
    "# for fname in fnames:\n",
    "#   src=os.path.join(original_dataset_dir, fname)\n",
    "#   dst=os.path.join(validation_cats_dir, fname)\n",
    "#   shutil.copyfile(src,dst)\n",
    "\n",
    "\n",
    "# fnames=['cat.{}.jpg'.format(i) for i in range(1500,2000)]\n",
    "# for fname in fnames:\n",
    "#   src=os.path.join(original_dataset_dir, fname)\n",
    "#   dst=os.path.join(test_cats_dir, fname)\n",
    "#   shutil.copyfile(src,dst)\n",
    "\n",
    "\n",
    "# fnames=['dog.{}.jpg'.format(i) for i in range(1000)]\n",
    "# for fname in fnames:\n",
    "#   src=os.path.join(original_dataset_dir, fname)\n",
    "#   dst=os.path.join(train_dogs_dir, fname)\n",
    "#   shutil.copyfile(src,dst)\n",
    "\n",
    "  \n",
    "# fnames=['dog.{}.jpg'.format(i) for i in range(1000,1500)]\n",
    "# for fname in fnames:\n",
    "#   src=os.path.join(original_dataset_dir, fname)\n",
    "#   dst=os.path.join(validation_dogs_dir, fname)\n",
    "#   shutil.copyfile(src,dst)\n",
    "\n",
    "  \n",
    "# fnames=['dog.{}.jpg'.format(i) for i in range(1500,2000)]\n",
    "# for fname in fnames:\n",
    "#   src=os.path.join(original_dataset_dir, fname)\n",
    "#   dst=os.path.join(test_dogs_dir, fname)\n",
    "#   shutil.copyfile(src,dst)"
   ]
  },
  {
   "cell_type": "code",
   "execution_count": 10,
   "metadata": {
    "colab": {
     "base_uri": "https://localhost:8080/",
     "height": 851
    },
    "colab_type": "code",
    "id": "JmzUiN_5EJ3X",
    "outputId": "fd8c1d57-5cc7-4da5-8b9b-9bf357131c89"
   },
   "outputs": [
    {
     "name": "stdout",
     "output_type": "stream",
     "text": [
      "_________________________________________________________________\n",
      "Layer (type)                 Output Shape              Param #   \n",
      "=================================================================\n",
      "input_2 (InputLayer)         (None, 150, 150, 3)       0         \n",
      "_________________________________________________________________\n",
      "block1_conv1 (Conv2D)        (None, 150, 150, 64)      1792      \n",
      "_________________________________________________________________\n",
      "block1_conv2 (Conv2D)        (None, 150, 150, 64)      36928     \n",
      "_________________________________________________________________\n",
      "block1_pool (MaxPooling2D)   (None, 75, 75, 64)        0         \n",
      "_________________________________________________________________\n",
      "block2_conv1 (Conv2D)        (None, 75, 75, 128)       73856     \n",
      "_________________________________________________________________\n",
      "block2_conv2 (Conv2D)        (None, 75, 75, 128)       147584    \n",
      "_________________________________________________________________\n",
      "block2_pool (MaxPooling2D)   (None, 37, 37, 128)       0         \n",
      "_________________________________________________________________\n",
      "block3_conv1 (Conv2D)        (None, 37, 37, 256)       295168    \n",
      "_________________________________________________________________\n",
      "block3_conv2 (Conv2D)        (None, 37, 37, 256)       590080    \n",
      "_________________________________________________________________\n",
      "block3_conv3 (Conv2D)        (None, 37, 37, 256)       590080    \n",
      "_________________________________________________________________\n",
      "block3_pool (MaxPooling2D)   (None, 18, 18, 256)       0         \n",
      "_________________________________________________________________\n",
      "block4_conv1 (Conv2D)        (None, 18, 18, 512)       1180160   \n",
      "_________________________________________________________________\n",
      "block4_conv2 (Conv2D)        (None, 18, 18, 512)       2359808   \n",
      "_________________________________________________________________\n",
      "block4_conv3 (Conv2D)        (None, 18, 18, 512)       2359808   \n",
      "_________________________________________________________________\n",
      "block4_pool (MaxPooling2D)   (None, 9, 9, 512)         0         \n",
      "_________________________________________________________________\n",
      "block5_conv1 (Conv2D)        (None, 9, 9, 512)         2359808   \n",
      "_________________________________________________________________\n",
      "block5_conv2 (Conv2D)        (None, 9, 9, 512)         2359808   \n",
      "_________________________________________________________________\n",
      "block5_conv3 (Conv2D)        (None, 9, 9, 512)         2359808   \n",
      "_________________________________________________________________\n",
      "block5_pool (MaxPooling2D)   (None, 4, 4, 512)         0         \n",
      "=================================================================\n",
      "Total params: 14,714,688\n",
      "Trainable params: 14,714,688\n",
      "Non-trainable params: 0\n",
      "_________________________________________________________________\n"
     ]
    }
   ],
   "source": [
    "conv_base.summary()"
   ]
  },
  {
   "cell_type": "code",
   "execution_count": 11,
   "metadata": {
    "colab": {},
    "colab_type": "code",
    "id": "AHh1Cb0ySkj7"
   },
   "outputs": [],
   "source": [
    "import os\n",
    "import numpy as np\n",
    "from keras.preprocessing.image import ImageDataGenerator\n",
    "\n",
    "base_dir = 'cats_and_dogs_small'\n",
    "\n",
    "train_dir= os.path.join(base_dir, 'train')\n",
    "validation_dir=os.path.join(base_dir, 'validation')\n",
    "test_dir=os.path.join(base_dir,'test')\n",
    "\n",
    "datagen=ImageDataGenerator(rescale=1./255)\n",
    "batch_size=20"
   ]
  },
  {
   "cell_type": "code",
   "execution_count": 12,
   "metadata": {
    "colab": {
     "base_uri": "https://localhost:8080/",
     "height": 71
    },
    "colab_type": "code",
    "id": "SzusxKQzSkj-",
    "outputId": "07f25efe-db0f-4655-a6d6-50c329d5d0ce"
   },
   "outputs": [
    {
     "name": "stdout",
     "output_type": "stream",
     "text": [
      "Found 2000 images belonging to 2 classes.\n",
      "Found 1000 images belonging to 2 classes.\n",
      "Found 1000 images belonging to 2 classes.\n"
     ]
    }
   ],
   "source": [
    "def extract_features(directory, sample_count):\n",
    "    features = np.zeros(shape=(sample_count, 4,4,512))\n",
    "    labels=np.zeros(shape=(sample_count))\n",
    "    generator = datagen.flow_from_directory(\n",
    "        directory,\n",
    "        target_size=(150,150),\n",
    "        batch_size=batch_size,\n",
    "        class_mode='binary')\n",
    "    i=0\n",
    "    for inputs_batch, labels_batch in generator:\n",
    "        features_batch =conv_base.predict(inputs_batch)\n",
    "        features[i*batch_size:(i+1)*batch_size]=features_batch\n",
    "        labels[i*batch_size:(i+1)*batch_size]=labels_batch\n",
    "        i+= 1\n",
    "        if i*batch_size>=sample_count:\n",
    "            break\n",
    "    return features,labels\n",
    "\n",
    "train_features, train_labels = extract_features(train_dir, 2000)\n",
    "validation_features, validation_labes =extract_features(validation_dir,1000)\n",
    "test_features, test_labels=extract_features(test_dir,1000)"
   ]
  },
  {
   "cell_type": "code",
   "execution_count": 13,
   "metadata": {
    "colab": {},
    "colab_type": "code",
    "id": "zIbWOFZmSkkA"
   },
   "outputs": [],
   "source": [
    "train_features=np.reshape(train_features,(2000,4*4*512))\n",
    "validation_features=np.reshape(validation_features,(1000,4*4*512))\n",
    "test_features=np.reshape(test_features,(1000,4*4*512))\n",
    "#dense layer에 연결하기 위해 flatten 작업\n",
    "#여기서 4*4*512를 해야 8192 사이즈의 1차원 벡터가 될 텐데 3차원으로 넣어버림>>오류"
   ]
  },
  {
   "cell_type": "code",
   "execution_count": 14,
   "metadata": {
    "colab": {
     "base_uri": "https://localhost:8080/",
     "height": 35
    },
    "colab_type": "code",
    "id": "bQi2uXC7aRmO",
    "outputId": "bd13d261-eb39-446a-8793-d9a0e3cc3a47"
   },
   "outputs": [
    {
     "data": {
      "text/plain": [
       "(1000, 8192)"
      ]
     },
     "execution_count": 14,
     "metadata": {},
     "output_type": "execute_result"
    }
   ],
   "source": [
    "validation_features.shape"
   ]
  },
  {
   "cell_type": "code",
   "execution_count": 15,
   "metadata": {
    "colab": {
     "base_uri": "https://localhost:8080/",
     "height": 1000
    },
    "colab_type": "code",
    "id": "6YfZyoP3SkkC",
    "outputId": "aedf70fe-6238-40db-f291-d6e148cb1410"
   },
   "outputs": [
    {
     "name": "stdout",
     "output_type": "stream",
     "text": [
      "WARNING:tensorflow:From /home/server1/anaconda3/envs/ksa2020/lib/python3.6/site-packages/keras/backend/tensorflow_backend.py:3445: calling dropout (from tensorflow.python.ops.nn_ops) with keep_prob is deprecated and will be removed in a future version.\n",
      "Instructions for updating:\n",
      "Please use `rate` instead of `keep_prob`. Rate should be set to `rate = 1 - keep_prob`.\n",
      "WARNING:tensorflow:From /home/server1/anaconda3/envs/ksa2020/lib/python3.6/site-packages/tensorflow/python/ops/math_ops.py:3066: to_int32 (from tensorflow.python.ops.math_ops) is deprecated and will be removed in a future version.\n",
      "Instructions for updating:\n",
      "Use tf.cast instead.\n",
      "Train on 2000 samples, validate on 1000 samples\n",
      "Epoch 1/30\n",
      "2000/2000 [==============================] - 1s 268us/step - loss: 0.6184 - acc: 0.6515 - val_loss: 0.4465 - val_acc: 0.8410\n",
      "Epoch 2/30\n",
      "2000/2000 [==============================] - 0s 135us/step - loss: 0.4440 - acc: 0.7880 - val_loss: 0.3689 - val_acc: 0.8700\n",
      "Epoch 3/30\n",
      "2000/2000 [==============================] - 0s 140us/step - loss: 0.3706 - acc: 0.8400 - val_loss: 0.3294 - val_acc: 0.8870\n",
      "Epoch 4/30\n",
      "2000/2000 [==============================] - 0s 189us/step - loss: 0.3190 - acc: 0.8675 - val_loss: 0.3083 - val_acc: 0.8890\n",
      "Epoch 5/30\n",
      "2000/2000 [==============================] - 0s 143us/step - loss: 0.2949 - acc: 0.8835 - val_loss: 0.2908 - val_acc: 0.8930\n",
      "Epoch 6/30\n",
      "2000/2000 [==============================] - 0s 239us/step - loss: 0.2693 - acc: 0.8915 - val_loss: 0.2778 - val_acc: 0.9000\n",
      "Epoch 7/30\n",
      "2000/2000 [==============================] - 0s 191us/step - loss: 0.2553 - acc: 0.8925 - val_loss: 0.2713 - val_acc: 0.8990\n",
      "Epoch 8/30\n",
      "2000/2000 [==============================] - 0s 149us/step - loss: 0.2432 - acc: 0.9015 - val_loss: 0.2733 - val_acc: 0.8920\n",
      "Epoch 9/30\n",
      "2000/2000 [==============================] - 0s 150us/step - loss: 0.2282 - acc: 0.9165 - val_loss: 0.2583 - val_acc: 0.9020\n",
      "Epoch 10/30\n",
      "2000/2000 [==============================] - 0s 144us/step - loss: 0.2164 - acc: 0.9165 - val_loss: 0.2560 - val_acc: 0.9030\n",
      "Epoch 11/30\n",
      "2000/2000 [==============================] - 0s 155us/step - loss: 0.2002 - acc: 0.9305 - val_loss: 0.2685 - val_acc: 0.8850\n",
      "Epoch 12/30\n",
      "2000/2000 [==============================] - 0s 148us/step - loss: 0.1948 - acc: 0.9295 - val_loss: 0.2478 - val_acc: 0.9060\n",
      "Epoch 13/30\n",
      "2000/2000 [==============================] - 0s 191us/step - loss: 0.1833 - acc: 0.9340 - val_loss: 0.2470 - val_acc: 0.9040\n",
      "Epoch 14/30\n",
      "2000/2000 [==============================] - 0s 139us/step - loss: 0.1808 - acc: 0.9360 - val_loss: 0.2491 - val_acc: 0.9020\n",
      "Epoch 15/30\n",
      "2000/2000 [==============================] - 0s 244us/step - loss: 0.1714 - acc: 0.9410 - val_loss: 0.2454 - val_acc: 0.9040\n",
      "Epoch 16/30\n",
      "2000/2000 [==============================] - 0s 182us/step - loss: 0.1630 - acc: 0.9425 - val_loss: 0.2411 - val_acc: 0.9080\n",
      "Epoch 17/30\n",
      "2000/2000 [==============================] - 0s 169us/step - loss: 0.1514 - acc: 0.9505 - val_loss: 0.2403 - val_acc: 0.9050\n",
      "Epoch 18/30\n",
      "2000/2000 [==============================] - 0s 142us/step - loss: 0.1511 - acc: 0.9485 - val_loss: 0.2396 - val_acc: 0.9060\n",
      "Epoch 19/30\n",
      "2000/2000 [==============================] - 0s 155us/step - loss: 0.1445 - acc: 0.9505 - val_loss: 0.2427 - val_acc: 0.9080\n",
      "Epoch 20/30\n",
      "2000/2000 [==============================] - 0s 199us/step - loss: 0.1355 - acc: 0.9550 - val_loss: 0.2604 - val_acc: 0.8920\n",
      "Epoch 21/30\n",
      "2000/2000 [==============================] - 0s 181us/step - loss: 0.1314 - acc: 0.9600 - val_loss: 0.2473 - val_acc: 0.9000\n",
      "Epoch 22/30\n",
      "2000/2000 [==============================] - 0s 195us/step - loss: 0.1310 - acc: 0.9535 - val_loss: 0.2396 - val_acc: 0.9080\n",
      "Epoch 23/30\n",
      "2000/2000 [==============================] - 0s 157us/step - loss: 0.1239 - acc: 0.9590 - val_loss: 0.2391 - val_acc: 0.9060\n",
      "Epoch 24/30\n",
      "2000/2000 [==============================] - 0s 152us/step - loss: 0.1185 - acc: 0.9585 - val_loss: 0.2389 - val_acc: 0.9040\n",
      "Epoch 25/30\n",
      "2000/2000 [==============================] - 0s 138us/step - loss: 0.1146 - acc: 0.9615 - val_loss: 0.2418 - val_acc: 0.9040\n",
      "Epoch 26/30\n",
      "2000/2000 [==============================] - 0s 146us/step - loss: 0.1112 - acc: 0.9610 - val_loss: 0.2396 - val_acc: 0.9030\n",
      "Epoch 27/30\n",
      "2000/2000 [==============================] - 0s 142us/step - loss: 0.1019 - acc: 0.9685 - val_loss: 0.2410 - val_acc: 0.9040\n",
      "Epoch 28/30\n",
      "2000/2000 [==============================] - 0s 172us/step - loss: 0.0997 - acc: 0.9660 - val_loss: 0.2481 - val_acc: 0.9020\n",
      "Epoch 29/30\n",
      "2000/2000 [==============================] - 0s 196us/step - loss: 0.0985 - acc: 0.9700 - val_loss: 0.2610 - val_acc: 0.8970\n",
      "Epoch 30/30\n",
      "2000/2000 [==============================] - 0s 167us/step - loss: 0.0951 - acc: 0.9700 - val_loss: 0.2421 - val_acc: 0.9050\n"
     ]
    }
   ],
   "source": [
    "from keras import models\n",
    "from keras import layers\n",
    "from keras import optimizers\n",
    "\n",
    "model=models.Sequential()\n",
    "model.add(layers.Dense(256,activation='relu',input_dim=4*4*512))\n",
    "model.add(layers.Dropout(0.5))\n",
    "model.add(layers.Dense(1,activation='sigmoid'))\n",
    "\n",
    "model.compile(optimizer=optimizers.RMSprop(lr=2e-5),\n",
    "              loss='binary_crossentropy',\n",
    "              metrics=['acc'])\n",
    "\n",
    "history=model.fit(train_features,train_labels,\n",
    "                  epochs=30,\n",
    "                  batch_size=20,\n",
    "                  validation_data=(validation_features,validation_labes))\n"
   ]
  },
  {
   "cell_type": "code",
   "execution_count": 16,
   "metadata": {
    "colab": {},
    "colab_type": "code",
    "id": "B2elgZkmSkkE"
   },
   "outputs": [],
   "source": [
    "import matplotlib.pyplot as plt"
   ]
  },
  {
   "cell_type": "code",
   "execution_count": 17,
   "metadata": {
    "colab": {
     "base_uri": "https://localhost:8080/",
     "height": 617
    },
    "colab_type": "code",
    "id": "Vl1wNtH_SkkH",
    "outputId": "ec7cd991-5eef-4e92-d260-55e761841e91"
   },
   "outputs": [
    {
     "data": {
      "image/png": "[encoded data removed]",
      "text/plain": [
       "<Figure size 432x288 with 1 Axes>"
      ]
     },
     "metadata": {
      "needs_background": "light"
     },
     "output_type": "display_data"
    },
    {
     "data": {
      "image/png": "[encoded data removed]",
      "text/plain": [
       "<Figure size 432x288 with 1 Axes>"
      ]
     },
     "metadata": {
      "needs_background": "light"
     },
     "output_type": "display_data"
    },
    {
     "name": "stdout",
     "output_type": "stream",
     "text": [
      "max/mean acc:  0.969999994635582 0.9198333276907603\n",
      "max/mean val_acc:  0.9079999923706055 0.8976333265701929\n",
      "max/mean loss:  0.6184193110466003 0.20203902136534452\n",
      "max/mean val_loss:  0.44652549028396604 0.2666998878493905\n"
     ]
    }
   ],
   "source": [
    "acc= history.history['acc']\n",
    "val_acc=history.history['val_acc']\n",
    "loss=history.history['loss']\n",
    "val_loss=history.history['val_loss']\n",
    "\n",
    "epochs=range(len(acc))\n",
    "\n",
    "plt.plot(epochs, acc, 'bo', label='Training acc')\n",
    "plt.plot(epochs, val_acc, 'b', label='validation acc')\n",
    "plt.title('Training and validation accuracy')\n",
    "plt.legend()\n",
    "\n",
    "plt.figure()\n",
    "\n",
    "plt.plot(epochs, loss, 'bo',label='Training loss')\n",
    "plt.plot(epochs, val_loss, 'b', label='validation loss')\n",
    "plt.title('Training and validation loss')\n",
    "plt.legend()\n",
    "\n",
    "plt.show()\n",
    "\n",
    "print(\"max/mean acc: \", np.max(acc),np.mean(acc))\n",
    "print(\"max/mean val_acc: \", np.max(val_acc),np.mean(val_acc))\n",
    "print(\"max/mean loss: \", np.max(loss),np.mean(loss))\n",
    "print(\"max/mean val_loss: \", np.max(val_loss),np.mean(val_loss))"
   ]
  },
  {
   "cell_type": "markdown",
   "metadata": {
    "colab_type": "text",
    "id": "zinW8XEiPUMb"
   },
   "source": [
    "특성 추출을 위한 두 번째 방법\n",
    "\n",
    "데이터 증식을 활용한 ...."
   ]
  },
  {
   "cell_type": "code",
   "execution_count": 18,
   "metadata": {
    "colab": {
     "base_uri": "https://localhost:8080/",
     "height": 307
    },
    "colab_type": "code",
    "id": "FwkTwSejSkkJ",
    "outputId": "ec1a151e-fd27-4567-cf92-bf5adce3ebe7"
   },
   "outputs": [
    {
     "name": "stdout",
     "output_type": "stream",
     "text": [
      "_________________________________________________________________\n",
      "Layer (type)                 Output Shape              Param #   \n",
      "=================================================================\n",
      "vgg16 (Model)                (None, 4, 4, 512)         14714688  \n",
      "_________________________________________________________________\n",
      "flatten_1 (Flatten)          (None, 8192)              0         \n",
      "_________________________________________________________________\n",
      "dense_3 (Dense)              (None, 256)               2097408   \n",
      "_________________________________________________________________\n",
      "dense_4 (Dense)              (None, 1)                 257       \n",
      "=================================================================\n",
      "Total params: 16,812,353\n",
      "Trainable params: 16,812,353\n",
      "Non-trainable params: 0\n",
      "_________________________________________________________________\n"
     ]
    }
   ],
   "source": [
    "model=models.Sequential()\n",
    "model.add(conv_base)\n",
    "model.add(layers.Flatten())\n",
    "model.add(layers.Dense(256,activation='relu'))\n",
    "model.add(layers.Dense(1, activation='sigmoid'))\n",
    "\n",
    "model.summary()"
   ]
  },
  {
   "cell_type": "markdown",
   "metadata": {
    "colab_type": "text",
    "id": "KT4KxxEHQmEl"
   },
   "source": [
    "왜 30개가 되는지 이해했는데 의미는 이해하지 못함 \n",
    "\n",
    "아마 vgg16 레이어 수랑 관련..이 맞았음 (왜 VGG16은 16이지)\n",
    "\n",
    "conv_layers : 13개 텐서 두개씩 26개 + dense층거 4개 해서 30게"
   ]
  },
  {
   "cell_type": "code",
   "execution_count": 19,
   "metadata": {
    "colab": {
     "base_uri": "https://localhost:8080/",
     "height": 35
    },
    "colab_type": "code",
    "id": "NpCSPWQmSkkL",
    "outputId": "0d8084d0-f503-48bc-c79e-a2a65d02b576"
   },
   "outputs": [
    {
     "data": {
      "text/plain": [
       "30"
      ]
     },
     "execution_count": 19,
     "metadata": {},
     "output_type": "execute_result"
    }
   ],
   "source": [
    "len(model.trainable_weights)"
   ]
  },
  {
   "cell_type": "code",
   "execution_count": 20,
   "metadata": {
    "colab": {},
    "colab_type": "code",
    "id": "PJ2cMU1TSkkN"
   },
   "outputs": [],
   "source": [
    "conv_base.trainable=False"
   ]
  },
  {
   "cell_type": "markdown",
   "metadata": {
    "colab_type": "text",
    "id": "Fudk7iIlQURB"
   },
   "source": [
    "conv_base의 가중치는 고정되고 두 Dense 층의 가중치만 훈력이 될 예정\n",
    "tensor 는 4개 (가중치 행렬, 편향 벡터) "
   ]
  },
  {
   "cell_type": "code",
   "execution_count": 21,
   "metadata": {
    "colab": {
     "base_uri": "https://localhost:8080/",
     "height": 35
    },
    "colab_type": "code",
    "id": "geR5XoYOSkkP",
    "outputId": "b17dbdf5-6993-48af-cf42-ec32ca170e06"
   },
   "outputs": [
    {
     "data": {
      "text/plain": [
       "4"
      ]
     },
     "execution_count": 21,
     "metadata": {},
     "output_type": "execute_result"
    }
   ],
   "source": [
    "len(model.trainable_weights)"
   ]
  },
  {
   "cell_type": "code",
   "execution_count": 22,
   "metadata": {
    "colab": {
     "base_uri": "https://localhost:8080/",
     "height": 1000
    },
    "colab_type": "code",
    "id": "V_n-u1InSkkR",
    "outputId": "ce124eb5-cf8a-4a94-f866-9b13da1d6e40"
   },
   "outputs": [
    {
     "name": "stdout",
     "output_type": "stream",
     "text": [
      "Found 2000 images belonging to 2 classes.\n",
      "Found 1000 images belonging to 2 classes.\n",
      "Epoch 1/30\n",
      " - 9s - loss: 0.5658 - acc: 0.7165 - val_loss: 0.4230 - val_acc: 0.8310\n",
      "Epoch 2/30\n",
      " - 8s - loss: 0.4047 - acc: 0.8440 - val_loss: 0.3359 - val_acc: 0.8670\n",
      "Epoch 3/30\n",
      " - 9s - loss: 0.3487 - acc: 0.8555 - val_loss: 0.3006 - val_acc: 0.8790\n",
      "Epoch 4/30\n",
      " - 8s - loss: 0.3216 - acc: 0.8660 - val_loss: 0.2809 - val_acc: 0.8890\n",
      "Epoch 5/30\n",
      " - 9s - loss: 0.3035 - acc: 0.8690 - val_loss: 0.2724 - val_acc: 0.8920\n",
      "Epoch 6/30\n",
      " - 8s - loss: 0.2905 - acc: 0.8805 - val_loss: 0.2589 - val_acc: 0.8940\n",
      "Epoch 7/30\n",
      " - 9s - loss: 0.2696 - acc: 0.8960 - val_loss: 0.2551 - val_acc: 0.8990\n",
      "Epoch 8/30\n",
      " - 8s - loss: 0.2757 - acc: 0.8850 - val_loss: 0.2508 - val_acc: 0.9000\n",
      "Epoch 9/30\n",
      " - 8s - loss: 0.2555 - acc: 0.8950 - val_loss: 0.2630 - val_acc: 0.8890\n",
      "Epoch 10/30\n",
      " - 8s - loss: 0.2497 - acc: 0.9020 - val_loss: 0.2429 - val_acc: 0.9070\n",
      "Epoch 11/30\n",
      " - 8s - loss: 0.2410 - acc: 0.9050 - val_loss: 0.2445 - val_acc: 0.9010\n",
      "Epoch 12/30\n",
      " - 8s - loss: 0.2402 - acc: 0.9045 - val_loss: 0.2395 - val_acc: 0.9040\n",
      "Epoch 13/30\n",
      " - 8s - loss: 0.2305 - acc: 0.9085 - val_loss: 0.2459 - val_acc: 0.9010\n",
      "Epoch 14/30\n",
      " - 8s - loss: 0.2301 - acc: 0.9025 - val_loss: 0.2367 - val_acc: 0.9040\n",
      "Epoch 15/30\n",
      " - 8s - loss: 0.2235 - acc: 0.9140 - val_loss: 0.2345 - val_acc: 0.9050\n",
      "Epoch 16/30\n",
      " - 8s - loss: 0.2205 - acc: 0.9100 - val_loss: 0.2344 - val_acc: 0.9070\n",
      "Epoch 17/30\n",
      " - 8s - loss: 0.2182 - acc: 0.9080 - val_loss: 0.2375 - val_acc: 0.9010\n",
      "Epoch 18/30\n",
      " - 8s - loss: 0.2156 - acc: 0.9090 - val_loss: 0.2398 - val_acc: 0.9000\n",
      "Epoch 19/30\n",
      " - 8s - loss: 0.2129 - acc: 0.9085 - val_loss: 0.2366 - val_acc: 0.9080\n",
      "Epoch 20/30\n",
      " - 8s - loss: 0.2106 - acc: 0.9120 - val_loss: 0.2303 - val_acc: 0.9090\n",
      "Epoch 21/30\n",
      " - 8s - loss: 0.2000 - acc: 0.9190 - val_loss: 0.2323 - val_acc: 0.9080\n",
      "Epoch 22/30\n",
      " - 8s - loss: 0.2008 - acc: 0.9220 - val_loss: 0.2328 - val_acc: 0.9010\n",
      "Epoch 23/30\n",
      " - 8s - loss: 0.1900 - acc: 0.9280 - val_loss: 0.2339 - val_acc: 0.9040\n",
      "Epoch 24/30\n",
      " - 8s - loss: 0.1978 - acc: 0.9220 - val_loss: 0.2356 - val_acc: 0.9080\n",
      "Epoch 25/30\n",
      " - 8s - loss: 0.1826 - acc: 0.9335 - val_loss: 0.2307 - val_acc: 0.9040\n",
      "Epoch 26/30\n",
      " - 8s - loss: 0.1870 - acc: 0.9275 - val_loss: 0.2364 - val_acc: 0.9060\n",
      "Epoch 27/30\n",
      " - 8s - loss: 0.1874 - acc: 0.9245 - val_loss: 0.2284 - val_acc: 0.9090\n",
      "Epoch 28/30\n",
      " - 8s - loss: 0.1752 - acc: 0.9355 - val_loss: 0.2310 - val_acc: 0.9100\n",
      "Epoch 29/30\n",
      " - 8s - loss: 0.1924 - acc: 0.9230 - val_loss: 0.2332 - val_acc: 0.9050\n",
      "Epoch 30/30\n",
      " - 8s - loss: 0.1815 - acc: 0.9260 - val_loss: 0.2535 - val_acc: 0.8990\n"
     ]
    }
   ],
   "source": [
    "from keras.preprocessing.image import ImageDataGenerator\n",
    "\n",
    "train_datagen = ImageDataGenerator(\n",
    "    rescale=1./255,\n",
    "    rotation_range=20,\n",
    "    width_shift_range=0.1,\n",
    "    height_shift_range=0.1,\n",
    "    shear_range=0.1,\n",
    "    zoom_range=0.1,\n",
    "    horizontal_flip=True,\n",
    "    fill_mode='nearest')\n",
    "\n",
    "test_datagen= ImageDataGenerator(rescale=1./255)\n",
    "\n",
    "train_generator=train_datagen.flow_from_directory(\n",
    "    train_dir,\n",
    "    target_size=(150,150),\n",
    "    batch_size=20,\n",
    "    class_mode='binary'\n",
    ")\n",
    "\n",
    "validation_generator=test_datagen.flow_from_directory(\n",
    "    validation_dir,\n",
    "    target_size=(150,150),\n",
    "    batch_size=20,\n",
    "    class_mode='binary'\n",
    ")\n",
    "\n",
    "model.compile(loss='binary_crossentropy',\n",
    "              optimizer=optimizers.RMSprop(lr=2e-5),\n",
    "              metrics=['acc'])\n",
    "\n",
    "history=model.fit_generator(\n",
    "    train_generator,\n",
    "    steps_per_epoch=100,\n",
    "    epochs=30,\n",
    "    validation_data=validation_generator,\n",
    "    validation_steps=50,\n",
    "    verbose=2\n",
    ")"
   ]
  },
  {
   "cell_type": "code",
   "execution_count": 23,
   "metadata": {
    "colab": {
     "base_uri": "https://localhost:8080/",
     "height": 545
    },
    "colab_type": "code",
    "id": "kyDcFdUPSkkS",
    "outputId": "8c3bb9ea-33f5-4562-97ba-0e87b8cae14d"
   },
   "outputs": [
    {
     "data": {
      "image/png": "[encoded data removed]",
      "text/plain": [
       "<Figure size 432x288 with 1 Axes>"
      ]
     },
     "metadata": {
      "needs_background": "light"
     },
     "output_type": "display_data"
    },
    {
     "data": {
      "image/png": "[encoded data removed]",
      "text/plain": [
       "<Figure size 432x288 with 1 Axes>"
      ]
     },
     "metadata": {
      "needs_background": "light"
     },
     "output_type": "display_data"
    }
   ],
   "source": [
    "acc=history.history['acc']\n",
    "val_acc=history.history['val_acc']\n",
    "loss=history.history['loss']\n",
    "val_loss=history.history['val_loss']\n",
    "\n",
    "epochs=range(len(acc))\n",
    "\n",
    "plt.plot(epochs,acc,'bo',label='Training acc')\n",
    "plt.plot(epochs,val_acc,'b',label='Validation acc')\n",
    "plt.title('Training and Validation accuracy')\n",
    "plt.legend()\n",
    "\n",
    "plt.figure()\n",
    "\n",
    "plt.plot(epochs,loss,'bo',label='Training loss')\n",
    "plt.plot(epochs,val_loss,'b',label='Validation loss')\n",
    "plt.title('Training and validation loss')\n",
    "plt.legend()\n",
    "\n",
    "plt.show()"
   ]
  },
  {
   "cell_type": "code",
   "execution_count": 24,
   "metadata": {
    "colab": {
     "base_uri": "https://localhost:8080/",
     "height": 89
    },
    "colab_type": "code",
    "id": "9saNyI1USkkV",
    "outputId": "41adb880-4896-4d68-8eda-bbff0bf6fd2f"
   },
   "outputs": [
    {
     "name": "stdout",
     "output_type": "stream",
     "text": [
      "max/mean acc:  0.9354999929666519 0.8984166618883608\n",
      "max/mean val_acc:  0.9099999976158142 0.8980333292086919\n",
      "max/mean loss:  0.5657983052730561 0.2474301476509621\n",
      "max/mean val_loss:  0.4230493628978729 0.2537015281853576\n"
     ]
    }
   ],
   "source": [
    "print(\"max/mean acc: \", np.max(acc),np.mean(acc))\n",
    "print(\"max/mean val_acc: \", np.max(val_acc),np.mean(val_acc))\n",
    "print(\"max/mean loss: \", np.max(loss),np.mean(loss))\n",
    "print(\"max/mean val_loss: \", np.max(val_loss),np.mean(val_loss))"
   ]
  },
  {
   "cell_type": "markdown",
   "metadata": {
    "colab_type": "text",
    "id": "d55LXgk8p2TU"
   },
   "source": [
    "미세조정\n",
    "\n",
    "동결모델 상위 층 몇 개를 동결 해제해 새로 연결한 층과 함께 훈련\n",
    "\n",
    "최상위 두 세개의 층만 미세조정하는 것이 좋음\n",
    "\n",
    "이유\n",
    "\n",
    "1.하위 층들은 더 일반적이고 재사용 가능한 특성들 인코딩>> 미세조정 효과 감소\n",
    "2. ㅇㄴ허ㅏㅣㅁㄹ;ㅣ"
   ]
  },
  {
   "cell_type": "code",
   "execution_count": 25,
   "metadata": {
    "colab": {
     "base_uri": "https://localhost:8080/",
     "height": 851
    },
    "colab_type": "code",
    "id": "nk_TA0O0-B5Q",
    "outputId": "1c029eb4-23e8-4a02-c1f7-364abfb992cf"
   },
   "outputs": [
    {
     "name": "stdout",
     "output_type": "stream",
     "text": [
      "_________________________________________________________________\n",
      "Layer (type)                 Output Shape              Param #   \n",
      "=================================================================\n",
      "input_2 (InputLayer)         (None, 150, 150, 3)       0         \n",
      "_________________________________________________________________\n",
      "block1_conv1 (Conv2D)        (None, 150, 150, 64)      1792      \n",
      "_________________________________________________________________\n",
      "block1_conv2 (Conv2D)        (None, 150, 150, 64)      36928     \n",
      "_________________________________________________________________\n",
      "block1_pool (MaxPooling2D)   (None, 75, 75, 64)        0         \n",
      "_________________________________________________________________\n",
      "block2_conv1 (Conv2D)        (None, 75, 75, 128)       73856     \n",
      "_________________________________________________________________\n",
      "block2_conv2 (Conv2D)        (None, 75, 75, 128)       147584    \n",
      "_________________________________________________________________\n",
      "block2_pool (MaxPooling2D)   (None, 37, 37, 128)       0         \n",
      "_________________________________________________________________\n",
      "block3_conv1 (Conv2D)        (None, 37, 37, 256)       295168    \n",
      "_________________________________________________________________\n",
      "block3_conv2 (Conv2D)        (None, 37, 37, 256)       590080    \n",
      "_________________________________________________________________\n",
      "block3_conv3 (Conv2D)        (None, 37, 37, 256)       590080    \n",
      "_________________________________________________________________\n",
      "block3_pool (MaxPooling2D)   (None, 18, 18, 256)       0         \n",
      "_________________________________________________________________\n",
      "block4_conv1 (Conv2D)        (None, 18, 18, 512)       1180160   \n",
      "_________________________________________________________________\n",
      "block4_conv2 (Conv2D)        (None, 18, 18, 512)       2359808   \n",
      "_________________________________________________________________\n",
      "block4_conv3 (Conv2D)        (None, 18, 18, 512)       2359808   \n",
      "_________________________________________________________________\n",
      "block4_pool (MaxPooling2D)   (None, 9, 9, 512)         0         \n",
      "_________________________________________________________________\n",
      "block5_conv1 (Conv2D)        (None, 9, 9, 512)         2359808   \n",
      "_________________________________________________________________\n",
      "block5_conv2 (Conv2D)        (None, 9, 9, 512)         2359808   \n",
      "_________________________________________________________________\n",
      "block5_conv3 (Conv2D)        (None, 9, 9, 512)         2359808   \n",
      "_________________________________________________________________\n",
      "block5_pool (MaxPooling2D)   (None, 4, 4, 512)         0         \n",
      "=================================================================\n",
      "Total params: 14,714,688\n",
      "Trainable params: 0\n",
      "Non-trainable params: 14,714,688\n",
      "_________________________________________________________________\n"
     ]
    }
   ],
   "source": [
    "conv_base.summary()"
   ]
  },
  {
   "cell_type": "code",
   "execution_count": 26,
   "metadata": {},
   "outputs": [
    {
     "name": "stdout",
     "output_type": "stream",
     "text": [
      "_________________________________________________________________\n",
      "Layer (type)                 Output Shape              Param #   \n",
      "=================================================================\n",
      "vgg16 (Model)                (None, 4, 4, 512)         14714688  \n",
      "_________________________________________________________________\n",
      "flatten_2 (Flatten)          (None, 8192)              0         \n",
      "_________________________________________________________________\n",
      "dense_5 (Dense)              (None, 256)               2097408   \n",
      "_________________________________________________________________\n",
      "dense_6 (Dense)              (None, 1)                 257       \n",
      "=================================================================\n",
      "Total params: 16,812,353\n",
      "Trainable params: 2,097,665\n",
      "Non-trainable params: 14,714,688\n",
      "_________________________________________________________________\n"
     ]
    }
   ],
   "source": [
    "model=models.Sequential()\n",
    "model.add(conv_base)\n",
    "model.add(layers.Flatten())\n",
    "model.add(layers.Dense(256,activation='relu'))\n",
    "model.add(layers.Dense(1, activation='sigmoid'))\n",
    "\n",
    "model.summary()"
   ]
  },
  {
   "cell_type": "code",
   "execution_count": 33,
   "metadata": {
    "colab": {},
    "colab_type": "code",
    "id": "rz7tDPdfSkkX"
   },
   "outputs": [],
   "source": [
    "conv_base.trainable=False\n",
    "\n",
    "set_trainable= False\n",
    "for layer in conv_base.layers:\n",
    "    if layer.name=='block5_conv1':\n",
    "        set_trainable=True\n",
    "    if layer.name=='block5_conv2':\n",
    "        set_trainable=True\n",
    "    if layer.name=='block5_conv3':\n",
    "        set_trainable=True\n",
    "    if set_trainable:\n",
    "        layer.trainable = True\n",
    "    else:\n",
    "        layer.trainable - False "
   ]
  },
  {
   "cell_type": "code",
   "execution_count": 34,
   "metadata": {},
   "outputs": [
    {
     "name": "stdout",
     "output_type": "stream",
     "text": [
      "_________________________________________________________________\n",
      "Layer (type)                 Output Shape              Param #   \n",
      "=================================================================\n",
      "vgg16 (Model)                (None, 4, 4, 512)         14714688  \n",
      "_________________________________________________________________\n",
      "flatten_2 (Flatten)          (None, 8192)              0         \n",
      "_________________________________________________________________\n",
      "dense_5 (Dense)              (None, 256)               2097408   \n",
      "_________________________________________________________________\n",
      "dense_6 (Dense)              (None, 1)                 257       \n",
      "=================================================================\n",
      "Total params: 16,812,353\n",
      "Trainable params: 2,097,665\n",
      "Non-trainable params: 14,714,688\n",
      "_________________________________________________________________\n"
     ]
    }
   ],
   "source": [
    "model.summary()"
   ]
  },
  {
   "cell_type": "code",
   "execution_count": 35,
   "metadata": {
    "colab": {},
    "colab_type": "code",
    "id": "aFdPOn2L-RHk"
   },
   "outputs": [
    {
     "name": "stdout",
     "output_type": "stream",
     "text": [
      "Epoch 1/100\n",
      "100/100 [==============================] - 9s 94ms/step - loss: 8.0444 - acc: 0.5005 - val_loss: 8.3331 - val_acc: 0.4830\n",
      "Epoch 2/100\n",
      "100/100 [==============================] - 8s 85ms/step - loss: 8.1396 - acc: 0.4950 - val_loss: 7.8979 - val_acc: 0.5100\n",
      "Epoch 3/100\n",
      "100/100 [==============================] - 8s 85ms/step - loss: 7.9785 - acc: 0.5050 - val_loss: 8.1235 - val_acc: 0.4960\n",
      "Epoch 4/100\n",
      "100/100 [==============================] - 8s 85ms/step - loss: 8.1155 - acc: 0.4965 - val_loss: 7.9785 - val_acc: 0.5050\n",
      "Epoch 5/100\n",
      "100/100 [==============================] - 8s 84ms/step - loss: 8.0993 - acc: 0.4975 - val_loss: 8.1719 - val_acc: 0.4930\n",
      "Epoch 6/100\n",
      "100/100 [==============================] - 8s 84ms/step - loss: 8.0268 - acc: 0.5020 - val_loss: 7.8817 - val_acc: 0.5110\n",
      "Epoch 7/100\n",
      "100/100 [==============================] - 8s 84ms/step - loss: 8.1396 - acc: 0.4950 - val_loss: 8.3653 - val_acc: 0.4810\n",
      "Epoch 8/100\n",
      "100/100 [==============================] - 8s 85ms/step - loss: 7.8898 - acc: 0.5105 - val_loss: 7.8495 - val_acc: 0.5130\n",
      "Epoch 9/100\n",
      "100/100 [==============================] - 8s 85ms/step - loss: 8.0832 - acc: 0.4985 - val_loss: 8.0429 - val_acc: 0.5010\n",
      "Epoch 10/100\n",
      "100/100 [==============================] - 8s 85ms/step - loss: 8.1074 - acc: 0.4970 - val_loss: 8.1396 - val_acc: 0.4950\n",
      "Epoch 11/100\n",
      "100/100 [==============================] - 8s 85ms/step - loss: 8.0188 - acc: 0.5025 - val_loss: 8.1880 - val_acc: 0.4920\n",
      "Epoch 12/100\n",
      "100/100 [==============================] - 8s 85ms/step - loss: 8.1638 - acc: 0.4935 - val_loss: 7.9785 - val_acc: 0.5050\n",
      "Epoch 13/100\n",
      "100/100 [==============================] - 8s 85ms/step - loss: 7.8898 - acc: 0.5105 - val_loss: 7.9462 - val_acc: 0.5070\n",
      "Epoch 14/100\n",
      "100/100 [==============================] - 8s 85ms/step - loss: 8.1961 - acc: 0.4915 - val_loss: 8.2041 - val_acc: 0.4910\n",
      "Epoch 15/100\n",
      "100/100 [==============================] - 8s 85ms/step - loss: 7.9946 - acc: 0.5040 - val_loss: 7.7850 - val_acc: 0.5170\n",
      "Epoch 16/100\n",
      "100/100 [==============================] - 8s 85ms/step - loss: 8.1477 - acc: 0.4945 - val_loss: 8.3169 - val_acc: 0.4840\n",
      "Epoch 17/100\n",
      "100/100 [==============================] - 8s 85ms/step - loss: 8.0349 - acc: 0.5015 - val_loss: 8.1074 - val_acc: 0.4970\n",
      "Epoch 18/100\n",
      "100/100 [==============================] - 8s 85ms/step - loss: 8.1074 - acc: 0.4970 - val_loss: 7.8656 - val_acc: 0.5120\n",
      "Epoch 19/100\n",
      "100/100 [==============================] - 8s 85ms/step - loss: 8.1074 - acc: 0.4970 - val_loss: 8.0429 - val_acc: 0.5010\n",
      "Epoch 20/100\n",
      "100/100 [==============================] - 8s 85ms/step - loss: 7.9704 - acc: 0.5055 - val_loss: 8.2686 - val_acc: 0.4870\n",
      "Epoch 21/100\n",
      "100/100 [==============================] - 8s 85ms/step - loss: 8.0026 - acc: 0.5035 - val_loss: 7.8656 - val_acc: 0.5120\n",
      "Epoch 22/100\n",
      "100/100 [==============================] - 9s 85ms/step - loss: 8.0107 - acc: 0.5030 - val_loss: 8.1719 - val_acc: 0.4930\n",
      "Epoch 23/100\n",
      "100/100 [==============================] - 8s 85ms/step - loss: 8.1316 - acc: 0.4955 - val_loss: 8.0913 - val_acc: 0.4980\n",
      "Epoch 24/100\n",
      "100/100 [==============================] - 8s 85ms/step - loss: 8.1477 - acc: 0.4945 - val_loss: 8.0913 - val_acc: 0.4980\n",
      "Epoch 25/100\n",
      "100/100 [==============================] - 8s 85ms/step - loss: 8.0268 - acc: 0.5020 - val_loss: 8.0429 - val_acc: 0.5010\n",
      "Epoch 26/100\n",
      "100/100 [==============================] - 8s 85ms/step - loss: 8.0188 - acc: 0.5025 - val_loss: 7.9140 - val_acc: 0.5090\n",
      "Epoch 27/100\n",
      "100/100 [==============================] - 8s 85ms/step - loss: 8.1396 - acc: 0.4950 - val_loss: 8.1235 - val_acc: 0.4960\n",
      "Epoch 28/100\n",
      "100/100 [==============================] - 8s 85ms/step - loss: 7.9946 - acc: 0.5040 - val_loss: 8.0590 - val_acc: 0.5000\n",
      "Epoch 29/100\n",
      "100/100 [==============================] - 9s 85ms/step - loss: 8.0349 - acc: 0.5015 - val_loss: 8.2041 - val_acc: 0.4910\n",
      "Epoch 30/100\n",
      "100/100 [==============================] - 8s 85ms/step - loss: 8.1477 - acc: 0.4945 - val_loss: 7.9140 - val_acc: 0.5090\n",
      "Epoch 31/100\n",
      "100/100 [==============================] - 8s 85ms/step - loss: 8.0832 - acc: 0.4985 - val_loss: 8.0268 - val_acc: 0.5020\n",
      "Epoch 32/100\n",
      "100/100 [==============================] - 8s 85ms/step - loss: 7.9785 - acc: 0.5050 - val_loss: 8.0752 - val_acc: 0.4990\n",
      "Epoch 33/100\n",
      "100/100 [==============================] - 8s 85ms/step - loss: 7.9220 - acc: 0.5085 - val_loss: 8.1719 - val_acc: 0.4930\n",
      "Epoch 34/100\n",
      "100/100 [==============================] - 9s 85ms/step - loss: 8.1155 - acc: 0.4965 - val_loss: 8.0107 - val_acc: 0.5030\n",
      "Epoch 35/100\n",
      "100/100 [==============================] - 8s 85ms/step - loss: 8.0349 - acc: 0.5015 - val_loss: 7.9301 - val_acc: 0.5080\n",
      "Epoch 36/100\n",
      "100/100 [==============================] - 9s 85ms/step - loss: 8.3492 - acc: 0.4820 - val_loss: 8.1235 - val_acc: 0.4960\n",
      "Epoch 37/100\n",
      "100/100 [==============================] - 8s 85ms/step - loss: 7.8898 - acc: 0.5105 - val_loss: 8.1880 - val_acc: 0.4920\n",
      "Epoch 38/100\n",
      "100/100 [==============================] - 9s 86ms/step - loss: 8.0590 - acc: 0.5000 - val_loss: 8.0752 - val_acc: 0.4990\n",
      "Epoch 39/100\n",
      "100/100 [==============================] - 8s 85ms/step - loss: 7.8898 - acc: 0.5105 - val_loss: 7.8817 - val_acc: 0.5110\n",
      "Epoch 40/100\n",
      "100/100 [==============================] - 8s 84ms/step - loss: 8.2525 - acc: 0.4880 - val_loss: 8.0268 - val_acc: 0.5020\n",
      "Epoch 41/100\n",
      "100/100 [==============================] - 8s 84ms/step - loss: 8.0026 - acc: 0.5035 - val_loss: 8.1719 - val_acc: 0.4930\n",
      "Epoch 42/100\n",
      "100/100 [==============================] - 8s 84ms/step - loss: 8.0026 - acc: 0.5035 - val_loss: 7.8817 - val_acc: 0.5110\n",
      "Epoch 43/100\n",
      "100/100 [==============================] - 8s 84ms/step - loss: 8.1074 - acc: 0.4970 - val_loss: 8.3331 - val_acc: 0.4830\n",
      "Epoch 44/100\n",
      "100/100 [==============================] - 8s 85ms/step - loss: 7.9946 - acc: 0.5040 - val_loss: 7.8495 - val_acc: 0.5130\n",
      "Epoch 45/100\n",
      "100/100 [==============================] - 8s 84ms/step - loss: 8.0349 - acc: 0.5015 - val_loss: 8.1558 - val_acc: 0.4940\n",
      "Epoch 46/100\n",
      "100/100 [==============================] - 8s 84ms/step - loss: 8.1316 - acc: 0.4955 - val_loss: 8.0752 - val_acc: 0.4990\n",
      "Epoch 47/100\n",
      "100/100 [==============================] - 8s 84ms/step - loss: 8.1155 - acc: 0.4965 - val_loss: 8.1074 - val_acc: 0.4970\n",
      "Epoch 48/100\n",
      "100/100 [==============================] - 8s 85ms/step - loss: 8.1074 - acc: 0.4970 - val_loss: 7.9301 - val_acc: 0.5080\n",
      "Epoch 49/100\n",
      "100/100 [==============================] - 8s 85ms/step - loss: 7.9785 - acc: 0.5050 - val_loss: 8.1396 - val_acc: 0.4950\n",
      "Epoch 50/100\n",
      "100/100 [==============================] - 8s 85ms/step - loss: 8.0107 - acc: 0.5030 - val_loss: 8.1719 - val_acc: 0.4930\n",
      "Epoch 51/100\n",
      "100/100 [==============================] - 8s 84ms/step - loss: 7.9946 - acc: 0.5040 - val_loss: 7.9785 - val_acc: 0.5050\n",
      "Epoch 52/100\n",
      "100/100 [==============================] - 8s 84ms/step - loss: 8.1477 - acc: 0.4945 - val_loss: 8.1558 - val_acc: 0.4940\n",
      "Epoch 53/100\n",
      "100/100 [==============================] - 8s 84ms/step - loss: 8.0832 - acc: 0.4985 - val_loss: 8.0590 - val_acc: 0.5000\n",
      "Epoch 54/100\n",
      "100/100 [==============================] - 8s 84ms/step - loss: 7.9704 - acc: 0.5055 - val_loss: 7.8979 - val_acc: 0.5100\n",
      "Epoch 55/100\n",
      "100/100 [==============================] - 8s 84ms/step - loss: 8.1719 - acc: 0.4930 - val_loss: 7.9301 - val_acc: 0.5080\n",
      "Epoch 56/100\n",
      "100/100 [==============================] - 8s 84ms/step - loss: 8.0268 - acc: 0.5020 - val_loss: 8.2525 - val_acc: 0.4880\n",
      "Epoch 57/100\n",
      "100/100 [==============================] - 8s 84ms/step - loss: 8.1074 - acc: 0.4970 - val_loss: 8.0590 - val_acc: 0.5000\n",
      "Epoch 58/100\n",
      "100/100 [==============================] - 8s 84ms/step - loss: 7.9462 - acc: 0.5070 - val_loss: 7.9462 - val_acc: 0.5070\n",
      "Epoch 59/100\n",
      "100/100 [==============================] - 8s 85ms/step - loss: 8.1396 - acc: 0.4950 - val_loss: 8.0590 - val_acc: 0.5000\n",
      "Epoch 60/100\n",
      "100/100 [==============================] - 8s 84ms/step - loss: 8.0832 - acc: 0.4985 - val_loss: 8.0913 - val_acc: 0.4980\n",
      "Epoch 61/100\n",
      "100/100 [==============================] - 8s 85ms/step - loss: 8.0429 - acc: 0.5010 - val_loss: 7.9785 - val_acc: 0.5050\n"
     ]
    },
    {
     "name": "stdout",
     "output_type": "stream",
     "text": [
      "Epoch 62/100\n",
      "100/100 [==============================] - 8s 84ms/step - loss: 8.0993 - acc: 0.4975 - val_loss: 8.2525 - val_acc: 0.4880\n",
      "Epoch 63/100\n",
      "100/100 [==============================] - 8s 84ms/step - loss: 7.9704 - acc: 0.5055 - val_loss: 7.9785 - val_acc: 0.5050\n",
      "Epoch 64/100\n",
      "100/100 [==============================] - 8s 85ms/step - loss: 8.0188 - acc: 0.5025 - val_loss: 8.1235 - val_acc: 0.4960\n",
      "Epoch 65/100\n",
      "100/100 [==============================] - 8s 84ms/step - loss: 8.0429 - acc: 0.5010 - val_loss: 7.9623 - val_acc: 0.5060\n",
      "Epoch 66/100\n",
      "100/100 [==============================] - 8s 84ms/step - loss: 8.0510 - acc: 0.5005 - val_loss: 8.1880 - val_acc: 0.4920\n",
      "Epoch 67/100\n",
      "100/100 [==============================] - 8s 85ms/step - loss: 8.1961 - acc: 0.4915 - val_loss: 8.0590 - val_acc: 0.5000\n",
      "Epoch 68/100\n",
      "100/100 [==============================] - 8s 84ms/step - loss: 8.1155 - acc: 0.4965 - val_loss: 7.8173 - val_acc: 0.5150\n",
      "Epoch 69/100\n",
      "100/100 [==============================] - 8s 84ms/step - loss: 7.9785 - acc: 0.5050 - val_loss: 8.3975 - val_acc: 0.4790\n",
      "Epoch 70/100\n",
      "100/100 [==============================] - 8s 84ms/step - loss: 8.0832 - acc: 0.4985 - val_loss: 7.8817 - val_acc: 0.5110\n",
      "Epoch 71/100\n",
      "100/100 [==============================] - 8s 84ms/step - loss: 7.9785 - acc: 0.5050 - val_loss: 8.1074 - val_acc: 0.4970\n",
      "Epoch 72/100\n",
      "100/100 [==============================] - 8s 84ms/step - loss: 8.1558 - acc: 0.4940 - val_loss: 7.9301 - val_acc: 0.5080\n",
      "Epoch 73/100\n",
      "100/100 [==============================] - 8s 84ms/step - loss: 8.0349 - acc: 0.5015 - val_loss: 8.1880 - val_acc: 0.4920\n",
      "Epoch 74/100\n",
      "100/100 [==============================] - 8s 84ms/step - loss: 7.9623 - acc: 0.5060 - val_loss: 7.8979 - val_acc: 0.5100\n",
      "Epoch 75/100\n",
      "100/100 [==============================] - 8s 85ms/step - loss: 8.2605 - acc: 0.4875 - val_loss: 8.3975 - val_acc: 0.4790\n",
      "Epoch 76/100\n",
      "100/100 [==============================] - 8s 84ms/step - loss: 8.0913 - acc: 0.4980 - val_loss: 7.7689 - val_acc: 0.5180\n",
      "Epoch 77/100\n",
      "100/100 [==============================] - 8s 84ms/step - loss: 7.9462 - acc: 0.5070 - val_loss: 8.0107 - val_acc: 0.5030\n",
      "Epoch 78/100\n",
      "100/100 [==============================] - 8s 84ms/step - loss: 8.0268 - acc: 0.5020 - val_loss: 8.2202 - val_acc: 0.4900\n",
      "Epoch 79/100\n",
      "100/100 [==============================] - 8s 84ms/step - loss: 7.9865 - acc: 0.5045 - val_loss: 8.1074 - val_acc: 0.4970\n",
      "Epoch 80/100\n",
      "100/100 [==============================] - 8s 84ms/step - loss: 8.1396 - acc: 0.4950 - val_loss: 8.1074 - val_acc: 0.4970\n",
      "Epoch 81/100\n",
      "100/100 [==============================] - 8s 85ms/step - loss: 8.0752 - acc: 0.4990 - val_loss: 7.8656 - val_acc: 0.5120\n",
      "Epoch 82/100\n",
      "100/100 [==============================] - 8s 84ms/step - loss: 8.0188 - acc: 0.5025 - val_loss: 8.2847 - val_acc: 0.4860\n",
      "Epoch 83/100\n",
      "100/100 [==============================] - 8s 85ms/step - loss: 8.0188 - acc: 0.5025 - val_loss: 7.8012 - val_acc: 0.5160\n",
      "Epoch 84/100\n",
      "100/100 [==============================] - 8s 84ms/step - loss: 8.1074 - acc: 0.4970 - val_loss: 8.1719 - val_acc: 0.4930\n",
      "Epoch 85/100\n",
      "100/100 [==============================] - 8s 84ms/step - loss: 8.0510 - acc: 0.5005 - val_loss: 8.0913 - val_acc: 0.4980\n",
      "Epoch 86/100\n",
      "100/100 [==============================] - 8s 85ms/step - loss: 8.0349 - acc: 0.5015 - val_loss: 8.1396 - val_acc: 0.4950\n",
      "Epoch 87/100\n",
      "100/100 [==============================] - 8s 84ms/step - loss: 7.9785 - acc: 0.5050 - val_loss: 7.9301 - val_acc: 0.5080\n",
      "Epoch 88/100\n",
      "100/100 [==============================] - 8s 84ms/step - loss: 8.1880 - acc: 0.4920 - val_loss: 8.3169 - val_acc: 0.4840\n",
      "Epoch 89/100\n",
      "100/100 [==============================] - 8s 85ms/step - loss: 8.0752 - acc: 0.4990 - val_loss: 7.6722 - val_acc: 0.5240\n",
      "Epoch 90/100\n",
      "100/100 [==============================] - 8s 84ms/step - loss: 7.9946 - acc: 0.5040 - val_loss: 8.1558 - val_acc: 0.4940\n",
      "Epoch 91/100\n",
      "100/100 [==============================] - 8s 84ms/step - loss: 8.1155 - acc: 0.4965 - val_loss: 8.0913 - val_acc: 0.4980\n",
      "Epoch 92/100\n",
      "100/100 [==============================] - 8s 84ms/step - loss: 7.9140 - acc: 0.5090 - val_loss: 8.0107 - val_acc: 0.5030\n",
      "Epoch 93/100\n",
      "100/100 [==============================] - 8s 85ms/step - loss: 8.1235 - acc: 0.4960 - val_loss: 7.8979 - val_acc: 0.5100\n",
      "Epoch 94/100\n",
      "100/100 [==============================] - 8s 84ms/step - loss: 8.1719 - acc: 0.4930 - val_loss: 8.1074 - val_acc: 0.4970\n",
      "Epoch 95/100\n",
      "100/100 [==============================] - 8s 85ms/step - loss: 8.0993 - acc: 0.4975 - val_loss: 8.1880 - val_acc: 0.4920\n",
      "Epoch 96/100\n",
      "100/100 [==============================] - 8s 85ms/step - loss: 7.9462 - acc: 0.5070 - val_loss: 8.0752 - val_acc: 0.4990\n",
      "Epoch 97/100\n",
      "100/100 [==============================] - 8s 84ms/step - loss: 8.0752 - acc: 0.4990 - val_loss: 8.1880 - val_acc: 0.4920\n",
      "Epoch 98/100\n",
      "100/100 [==============================] - 8s 84ms/step - loss: 8.1235 - acc: 0.4960 - val_loss: 8.1558 - val_acc: 0.4940\n",
      "Epoch 99/100\n",
      "100/100 [==============================] - 8s 84ms/step - loss: 7.8979 - acc: 0.5100 - val_loss: 7.9140 - val_acc: 0.5090\n",
      "Epoch 100/100\n",
      "100/100 [==============================] - 8s 84ms/step - loss: 8.1961 - acc: 0.4915 - val_loss: 8.0107 - val_acc: 0.5030\n"
     ]
    }
   ],
   "source": [
    "model.compile(loss='binary_crossentropy',\n",
    "              optimizer=optimizers.RMSprop(lr=1e-3),\n",
    "              metrics=['acc'])\n",
    "\n",
    "history=model.fit_generator(\n",
    "    train_generator,\n",
    "    steps_per_epoch=100,\n",
    "    epochs=100,\n",
    "    validation_data=validation_generator,\n",
    "    validation_steps=50\n",
    ")"
   ]
  },
  {
   "cell_type": "code",
   "execution_count": 38,
   "metadata": {
    "colab": {},
    "colab_type": "code",
    "id": "MM2Bp_UG-1A5"
   },
   "outputs": [
    {
     "data": {
      "image/png": "[encoded data removed]",
      "text/plain": [
       "<Figure size 432x288 with 1 Axes>"
      ]
     },
     "metadata": {
      "needs_background": "light"
     },
     "output_type": "display_data"
    },
    {
     "data": {
      "image/png": "[encoded data removed]",
      "text/plain": [
       "<Figure size 432x288 with 1 Axes>"
      ]
     },
     "metadata": {
      "needs_background": "light"
     },
     "output_type": "display_data"
    },
    {
     "name": "stdout",
     "output_type": "stream",
     "text": [
      "max/mean acc:  0.5105000039935113 0.49992000144124027\n",
      "max/mean val_acc:  0.5240000015497208 0.49984000103771686\n",
      "max/mean loss:  8.34917356967926 8.060271260885894\n",
      "max/mean val_loss:  8.397527866363525 8.061626746416092\n"
     ]
    }
   ],
   "source": [
    "acc=history.history['acc']\n",
    "val_acc=history.history['val_acc']\n",
    "loss=history.history['loss']\n",
    "val_loss=history.history['val_loss']\n",
    "\n",
    "epochs=range(len(acc))\n",
    "\n",
    "plt.plot(epochs,acc,'bo',label='Training acc')\n",
    "plt.plot(epochs,val_acc,'b',label='Validation acc')\n",
    "plt.title('Training and Validation accuracy')\n",
    "plt.legend()\n",
    "\n",
    "plt.figure()\n",
    "\n",
    "plt.plot(epochs,loss,'bo',label='Training loss')\n",
    "plt.plot(epochs,val_loss,'b',label='Validation loss')\n",
    "plt.title('Training and validation loss')\n",
    "plt.legend()\n",
    "\n",
    "plt.show()\n",
    "\n",
    "print(\"max/mean acc: \", np.max(acc),np.mean(acc))\n",
    "print(\"max/mean val_acc: \", np.max(val_acc),np.mean(val_acc))\n",
    "print(\"max/mean loss: \", np.max(loss),np.mean(loss))\n",
    "print(\"max/mean val_loss: \", np.max(val_loss),np.mean(val_loss))"
   ]
  },
  {
   "cell_type": "code",
   "execution_count": 37,
   "metadata": {
    "colab": {},
    "colab_type": "code",
    "id": "mR49koLF-_dE"
   },
   "outputs": [
    {
     "data": {
      "image/png": "[encoded data removed]",
      "text/plain": [
       "<Figure size 432x288 with 1 Axes>"
      ]
     },
     "metadata": {
      "needs_background": "light"
     },
     "output_type": "display_data"
    },
    {
     "data": {
      "image/png": "[encoded data removed]",
      "text/plain": [
       "<Figure size 432x288 with 1 Axes>"
      ]
     },
     "metadata": {
      "needs_background": "light"
     },
     "output_type": "display_data"
    }
   ],
   "source": [
    "def smooth_curve(points,factor=0.8):\n",
    "    smoothed_points=[]\n",
    "    for point in points:\n",
    "        if smoothed_points:\n",
    "            previous =smoothed_points[-1]\n",
    "            smoothed_points.append(previous*factor+point*(1-factor))\n",
    "        else:\n",
    "            smoothed_points.append(point)\n",
    "    return smoothed_points\n",
    "\n",
    "acc=history.history['acc']\n",
    "val_acc=history.history['val_acc']\n",
    "loss=history.history['loss']\n",
    "val_loss=history.history['val_loss']\n",
    "\n",
    "epochs=range(len(acc))\n",
    "\n",
    "plt.plot(epochs,smooth_curve(acc),'bo',label='Training acc')\n",
    "plt.plot(epochs,smooth_curve(val_acc),'b',label='Validation acc')\n",
    "plt.title('Training and Validation accuracy')\n",
    "plt.legend()\n",
    "\n",
    "plt.figure()\n",
    "\n",
    "plt.plot(epochs,smooth_curve(loss),'bo',label='Training loss')\n",
    "plt.plot(epochs,smooth_curve(val_loss),'b',label='Validation loss')\n",
    "plt.title('Training and validation loss')\n",
    "plt.legend()\n",
    "\n",
    "plt.show()"
   ]
  },
  {
   "cell_type": "code",
   "execution_count": 36,
   "metadata": {
    "colab": {},
    "colab_type": "code",
    "id": "w4Oid-el_uHN"
   },
   "outputs": [
    {
     "name": "stdout",
     "output_type": "stream",
     "text": [
      "Found 1000 images belonging to 2 classes.\n",
      "test acc:  0.49999999940395357\n"
     ]
    }
   ],
   "source": [
    "test_generator=test_datagen.flow_from_directory(\n",
    "    test_dir,\n",
    "    target_size=(150,150),\n",
    "    batch_size=20,\n",
    "    class_mode='binary'\n",
    ")\n",
    "\n",
    "test_loss,test_acc=model.evaluate_generator(test_generator,steps=50)\n",
    "print('test acc: ', test_acc)"
   ]
  },
  {
   "cell_type": "code",
   "execution_count": 32,
   "metadata": {},
   "outputs": [],
   "source": [
    "model.save('cats_and_dogs_small_4_2.h5')"
   ]
  }
 ],
 "metadata": {
  "accelerator": "GPU",
  "colab": {
   "collapsed_sections": [],
   "name": "KOLD_preTrainedConv (1).ipynb",
   "provenance": []
  },
  "kernelspec": {
   "display_name": "ksa2020",
   "language": "python",
   "name": "ksa2020"
  },
  "language_info": {
   "codemirror_mode": {
    "name": "ipython",
    "version": 3
   },
   "file_extension": ".py",
   "mimetype": "text/x-python",
   "name": "python",
   "nbconvert_exporter": "python",
   "pygments_lexer": "ipython3",
   "version": "3.6.10"
  }
 },
 "nbformat": 4,
 "nbformat_minor": 1
}
